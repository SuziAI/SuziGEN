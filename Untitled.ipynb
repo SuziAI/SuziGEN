{
 "cells": [
  {
   "cell_type": "code",
   "execution_count": 1,
   "id": "2cd72204",
   "metadata": {},
   "outputs": [],
   "source": [
    "import json\n",
    "import numpy as np\n",
    "import os\n",
    "import dataclasses\n",
    "import matplotlib.pyplot as plt\n",
    "import itertools\n",
    "from scipy.stats import chi2_contingency"
   ]
  },
  {
   "cell_type": "code",
   "execution_count": 2,
   "id": "ac985135",
   "metadata": {},
   "outputs": [],
   "source": [
    "@dataclasses.dataclass\n",
    "class SuzipuAdditionalSymbol:\n",
    "    ADD_NONE: None = None\n",
    "    ADD_DA_DUN: str = \"DA_DUN\"\n",
    "    ADD_XIAO_ZHU: str = \"XIAO_ZHU\"\n",
    "    ADD_DING_ZHU: str = \"DING_ZHU\"\n",
    "    ADD_DA_ZHU: str = \"DA_ZHU\"\n",
    "    ADD_ZHE: str = \"ZHE\"\n",
    "    ADD_YE: str = \"YE\"\n",
    "\n",
    "@dataclasses.dataclass\n",
    "class GongcheMelodySymbol:\n",
    "    HE: str = \"HE\"\n",
    "    XIA_SI: str = \"XIA_SI\"\n",
    "    SI: str = \"SI\"\n",
    "    XIA_YI: str = \"XIA_YI\"\n",
    "    YI: str = \"YI\"\n",
    "    SHANG: str = \"SHANG\"\n",
    "    GOU: str = \"GOU\"\n",
    "    CHE: str = \"CHE\"\n",
    "    XIA_GONG: str = \"XIA_GONG\"\n",
    "    GONG: str = \"GONG\"\n",
    "    XIA_FAN: str = \"XIA_FAN\"\n",
    "    FAN: str = \"FAN\"\n",
    "    LIU: str = \"LIU\"\n",
    "    XIA_WU: str = \"XIA_WU\"\n",
    "    WU: str = \"WU\"\n",
    "    GAO_WU: str = \"GAO_WU\"\n",
    "\n",
    "    @classmethod\n",
    "    def to_lvlv(cls, symbol):\n",
    "        try:\n",
    "            return {\n",
    "                GongcheMelodySymbol.HE: \"黃\",\n",
    "                GongcheMelodySymbol.XIA_SI: \"大\",\n",
    "                GongcheMelodySymbol.SI: \"太\",\n",
    "                GongcheMelodySymbol.XIA_YI: \"夾\",\n",
    "                GongcheMelodySymbol.YI: \"姑\",\n",
    "                GongcheMelodySymbol.SHANG: \"仲\",\n",
    "                GongcheMelodySymbol.GOU: \"蕤\",\n",
    "                GongcheMelodySymbol.CHE: \"林\",\n",
    "                GongcheMelodySymbol.XIA_GONG: \"夷\",\n",
    "                GongcheMelodySymbol.GONG: \"南\",\n",
    "                GongcheMelodySymbol.XIA_FAN: \"無\",\n",
    "                GongcheMelodySymbol.FAN: \"應\",\n",
    "                GongcheMelodySymbol.LIU: \"清黃\",\n",
    "                GongcheMelodySymbol.XIA_WU: \"清大\",\n",
    "                GongcheMelodySymbol.WU: \"清太\",\n",
    "                GongcheMelodySymbol.GAO_WU: \"清夾\",\n",
    "            }[symbol]\n",
    "        except KeyError:\n",
    "            return \"INVALID\"\n",
    "\n",
    "    @classmethod\n",
    "    def to_gongche(cls, symbol):\n",
    "        try:\n",
    "            return {\n",
    "                GongcheMelodySymbol.HE: \"合\",\n",
    "                GongcheMelodySymbol.XIA_SI: \"下四\",\n",
    "                GongcheMelodySymbol.SI: \"四\",\n",
    "                GongcheMelodySymbol.XIA_YI: \"下一\",\n",
    "                GongcheMelodySymbol.YI: \"一\",\n",
    "                GongcheMelodySymbol.SHANG: \"上\",\n",
    "                GongcheMelodySymbol.GOU: \"勾\",\n",
    "                GongcheMelodySymbol.CHE: \"尺\",\n",
    "                GongcheMelodySymbol.XIA_GONG: \"下工\",\n",
    "                GongcheMelodySymbol.GONG: \"工\",\n",
    "                GongcheMelodySymbol.XIA_FAN: \"下凡\",\n",
    "                GongcheMelodySymbol.FAN: \"凡\",\n",
    "                GongcheMelodySymbol.LIU: \"六\",\n",
    "                GongcheMelodySymbol.XIA_WU: \"下五\",\n",
    "                GongcheMelodySymbol.WU: \"五\",\n",
    "                GongcheMelodySymbol.GAO_WU: \"高五\"\n",
    "            }[symbol]\n",
    "        except KeyError:\n",
    "            return \"INVALID\"\n",
    "\n",
    "    @classmethod\n",
    "    def to_index(cls, symbol):\n",
    "        try:\n",
    "            return {\n",
    "                GongcheMelodySymbol.HE: 0,\n",
    "                GongcheMelodySymbol.XIA_SI: 1,\n",
    "                GongcheMelodySymbol.SI: 2,\n",
    "                GongcheMelodySymbol.XIA_YI: 3,\n",
    "                GongcheMelodySymbol.YI: 4,\n",
    "                GongcheMelodySymbol.SHANG: 5,\n",
    "                GongcheMelodySymbol.GOU: 6,\n",
    "                GongcheMelodySymbol.CHE: 7,\n",
    "                GongcheMelodySymbol.XIA_GONG: 8,\n",
    "                GongcheMelodySymbol.GONG: 9,\n",
    "                GongcheMelodySymbol.XIA_FAN: 10,\n",
    "                GongcheMelodySymbol.FAN: 11,\n",
    "                GongcheMelodySymbol.LIU: 12,\n",
    "                GongcheMelodySymbol.XIA_WU: 13,\n",
    "                GongcheMelodySymbol.WU: 14,\n",
    "                GongcheMelodySymbol.GAO_WU: 15\n",
    "            }[symbol]\n",
    "        except KeyError:\n",
    "            return \"INVALID\"\n",
    "\n",
    "    @classmethod\n",
    "    def from_string(cls, str):\n",
    "        try:\n",
    "            return {\n",
    "                \"合\": \"0\",\n",
    "                \"下四\": \"1\",\n",
    "                \"四\": \"2\",\n",
    "                \"下一\": \"3\",\n",
    "                \"一\": \"4\",\n",
    "                \"上\": \"5\",\n",
    "                \"勾\": \"6\",\n",
    "                \"尺\": \"7\",\n",
    "                \"下工\": \"8\",\n",
    "                \"工\": \"9\",\n",
    "                \"下凡\": \"A\",\n",
    "                \"凡\": \"B\",\n",
    "                \"六\": \"C\",\n",
    "                \"下五\": \"D\",\n",
    "                \"五\": \"E\",\n",
    "                \"高五\": \"F\",\n",
    "\n",
    "                \"黃\": \"0\",\n",
    "                \"大\": \"1\",\n",
    "                \"太\": \"2\",\n",
    "                \"夾\": \"3\",\n",
    "                \"姑\": \"4\",\n",
    "                \"仲\": \"5\",\n",
    "                \"蕤\": \"6\",\n",
    "                \"林\": \"7\",\n",
    "                \"夷\": \"8\",\n",
    "                \"南\": \"9\",\n",
    "                \"無\": \"A\",\n",
    "                \"應\": \"B\",\n",
    "                \"清黃\": \"C\",\n",
    "                \"清大\": \"D\",\n",
    "                \"清太\": \"E\",\n",
    "                \"清夾\": \"F\",\n",
    "            }[str]\n",
    "        except KeyError:\n",
    "            print(f\"'{str}' is not a valid gongche string identifier.\")\n",
    "            return \"INVALID\"\n",
    "\n",
    "@dataclasses.dataclass\n",
    "class Lvlv:\n",
    "    HUANGZHONG: str = \"HUANGZHONG\"\n",
    "    DALV: str = \"DALV\"\n",
    "    TAICU: str = \"TAICU\"\n",
    "    JIAZHONG: str = \"JIAZHONG\"\n",
    "    GUXIAN: str = \"GUXIAN\"\n",
    "    ZHONGLV: str = \"ZHONGLV\"\n",
    "    RUIBIN: str = \"RUIBIN\"\n",
    "    LINZHONG: str = \"LINZHONG\"\n",
    "    YIZE: str = \"YIZE\"\n",
    "    NANLV: str = \"NANLV\"\n",
    "    WUYI: str = \"WUYI\"\n",
    "    YINGZHONG: str = \"YINGZHONG\"\n",
    "\n",
    "    @classmethod\n",
    "    def to_name(cls, lvlv):\n",
    "        try:\n",
    "            return {\n",
    "                cls.HUANGZHONG: \"黄钟\",\n",
    "                cls.DALV: \"大吕\",\n",
    "                cls.TAICU: \"太簇\",\n",
    "                cls.JIAZHONG: \"夹钟\",\n",
    "                cls.GUXIAN: \"姑洗\",\n",
    "                cls.ZHONGLV: \"仲吕\",\n",
    "                cls.RUIBIN: \"蕤宾\",\n",
    "                cls.LINZHONG: \"林钟\",\n",
    "                cls.YIZE: \"夷则\",\n",
    "                cls.NANLV: \"南吕\",\n",
    "                cls.WUYI: \"无射\",\n",
    "                cls.YINGZHONG: \"应钟\"\n",
    "            }[lvlv]\n",
    "        except KeyError:\n",
    "            print(f\"'{lvlv}' is not a valid lülü.\")\n",
    "            return \"INVALID\"\n",
    "\n",
    "    @classmethod\n",
    "    def from_name(cls, string):\n",
    "        try:\n",
    "            return {\n",
    "                \"黄钟\": cls.HUANGZHONG,\n",
    "                \"大吕\": cls.DALV,\n",
    "                \"太簇\": cls.TAICU,\n",
    "                \"夹钟\": cls.JIAZHONG,\n",
    "                \"姑洗\": cls.GUXIAN,\n",
    "                \"仲吕\": cls.ZHONGLV,\n",
    "                \"蕤宾\": cls.RUIBIN,\n",
    "                \"林钟\": cls.LINZHONG,\n",
    "                \"夷则\": cls.YIZE,\n",
    "                \"南吕\": cls.NANLV,\n",
    "                \"无射\": cls.WUYI,\n",
    "                \"应钟\": cls.YINGZHONG,\n",
    "            }[string]\n",
    "        except KeyError:\n",
    "            print(f\"'{string}' is not a valid lülü name\")\n",
    "            return cls.HUANGZHONG\n",
    "\n",
    "    @classmethod\n",
    "    def to_int(cls, lvlv):\n",
    "        try:\n",
    "            return {\n",
    "                cls.HUANGZHONG: 0,\n",
    "                cls.DALV: 1,\n",
    "                cls.TAICU: 2,\n",
    "                cls.JIAZHONG: 3,\n",
    "                cls.GUXIAN: 4,\n",
    "                cls.ZHONGLV: 5,\n",
    "                cls.RUIBIN: 6,\n",
    "                cls.LINZHONG: 7,\n",
    "                cls.YIZE: 8,\n",
    "                cls.NANLV: 9,\n",
    "                cls.WUYI: 10,\n",
    "                cls.YINGZHONG: 11,\n",
    "            }[lvlv]\n",
    "        except KeyError:\n",
    "            print(f\"'{lvlv}' is not a valid lülü\")\n",
    "            return 0\n",
    "\n",
    "    @classmethod\n",
    "    def from_int(cls, int):\n",
    "        try:\n",
    "            return {\n",
    "                0: cls.HUANGZHONG,\n",
    "                1: cls.DALV,\n",
    "                2: cls.TAICU,\n",
    "                3: cls.JIAZHONG,\n",
    "                4: cls.GUXIAN,\n",
    "                5: cls.ZHONGLV,\n",
    "                6: cls.RUIBIN,\n",
    "                7: cls.LINZHONG,\n",
    "                8: cls.YIZE,\n",
    "                9: cls.NANLV,\n",
    "                10: cls.WUYI,\n",
    "                11: cls.YINGZHONG,\n",
    "            }[int]\n",
    "        except KeyError:\n",
    "            print(f\"'{int}' is not a valid lülü int\")\n",
    "            return cls.HUANGZHONG\n",
    "        \n",
    "@dataclasses.dataclass\n",
    "class GongdiaoStep:\n",
    "    GONG: str = \"GONG\"\n",
    "    SHANG: str = \"SHANG\"\n",
    "    JUE: str = \"JUE\"\n",
    "    BIAN: str = \"BIAN\"\n",
    "    ZHI: str = \"ZHI\"\n",
    "    YU: str = \"YU\"\n",
    "    RUN: str = \"RUN\"\n",
    "\n",
    "    @classmethod\n",
    "    def to_name(cls, gongdiaostep):\n",
    "        try:\n",
    "            return {GongdiaoStep.GONG: \"宫\",\n",
    "             GongdiaoStep.SHANG: \"商\",\n",
    "             GongdiaoStep.JUE: \"角\",\n",
    "             GongdiaoStep.BIAN: \"变\",\n",
    "             GongdiaoStep.ZHI: \"徵\",\n",
    "             GongdiaoStep.YU: \"羽\",\n",
    "             GongdiaoStep.RUN: \"闰\"}[gongdiaostep]\n",
    "        except KeyError:\n",
    "            return \"INVALID\"\n",
    "\n",
    "    @classmethod\n",
    "    def from_name(cls, gongdiaostep):\n",
    "        try:\n",
    "            return {\"宫\": GongdiaoStep.GONG,\n",
    "                    \"商\": GongdiaoStep.SHANG,\n",
    "                    \"角\": GongdiaoStep.JUE,\n",
    "                    \"变\": GongdiaoStep.BIAN,\n",
    "                    \"徵\": GongdiaoStep.ZHI,\n",
    "                    \"羽\": GongdiaoStep.YU,\n",
    "                    \"闰\": GongdiaoStep.RUN}[gongdiaostep]\n",
    "        except KeyError:\n",
    "            return GongdiaoStep.GONG\n",
    "    \n",
    "    @classmethod\n",
    "    def to_index(cls, gongdiaostep):\n",
    "        try:\n",
    "            return {GongdiaoStep.GONG: 0,\n",
    "             GongdiaoStep.SHANG: 1,\n",
    "             GongdiaoStep.JUE: 2,\n",
    "             GongdiaoStep.BIAN: 3,\n",
    "             GongdiaoStep.ZHI: 4,\n",
    "             GongdiaoStep.YU: 5,\n",
    "             GongdiaoStep.RUN: 6}[gongdiaostep]\n",
    "        except KeyError:\n",
    "            return \"INVALID\"\n",
    "\n",
    "def get_tone_inventory(lvlv):\n",
    "        def rotate_list_right(l, idx):\n",
    "            return [l[(index - idx + len(l)) % len(l)] for index in range(len(l))]\n",
    "\n",
    "        def extend_tone_inventory(l):\n",
    "            return l + l[0:4]\n",
    "\n",
    "        huang_zhong_gong = [GongdiaoStep.GONG, None, GongdiaoStep.SHANG, None, GongdiaoStep.JUE, None, GongdiaoStep.BIAN, GongdiaoStep.ZHI, None, GongdiaoStep.YU, None, GongdiaoStep.RUN]\n",
    "        return extend_tone_inventory(rotate_list_right(huang_zhong_gong, Lvlv.to_int(lvlv)))\n",
    "    \n",
    "def tone_inventory_convert_pitch(gong_lvlv, pitch: GongcheMelodySymbol):\n",
    "    tone_inventory = get_tone_inventory(gong_lvlv)\n",
    "    def raise_error():\n",
    "        print(f\"Error! Incompatible symbol {pitch} according to tone inventory {tone_inventory}.\")\n",
    "        #raise RuntimeError(f\"Error! Incompatible symbol {pitch} according to tone inventory {gong_lvlv}.\")\n",
    "\n",
    "    if pitch == None:\n",
    "        return None\n",
    "    # Here, we flip the order, because for Nanlüdiao we need the diatonic steps\n",
    "    elif pitch == GongcheMelodySymbol.HE:\n",
    "        #if gong_lvlv[0] is not None:\n",
    "        return pitch\n",
    "    elif pitch == GongcheMelodySymbol.XIA_SI or pitch == GongcheMelodySymbol.SI:\n",
    "        if tone_inventory[2] is not None:\n",
    "            return GongcheMelodySymbol.SI\n",
    "        elif tone_inventory[1] is not None:\n",
    "            return GongcheMelodySymbol.XIA_SI\n",
    "    elif pitch == GongcheMelodySymbol.XIA_YI or pitch == GongcheMelodySymbol.YI:\n",
    "        if tone_inventory[4] is not None:\n",
    "            return GongcheMelodySymbol.YI\n",
    "        elif tone_inventory[3] is not None:\n",
    "            return GongcheMelodySymbol.XIA_YI\n",
    "    elif pitch == GongcheMelodySymbol.SHANG:\n",
    "        #if gong_lvlv[5] is not None:\n",
    "        return pitch\n",
    "    elif pitch == GongcheMelodySymbol.GOU:  # TODO: Check if GOU, having a separate Suzipu symbol, can become CHE\n",
    "        #if gong_lvlv[6] is not None:\n",
    "        return pitch\n",
    "    elif pitch == GongcheMelodySymbol.CHE:\n",
    "        #if gong_lvlv[7] is not None:\n",
    "        return pitch\n",
    "    elif pitch == GongcheMelodySymbol.XIA_GONG or pitch == GongcheMelodySymbol.GONG:\n",
    "        if tone_inventory[9] is not None:\n",
    "            return GongcheMelodySymbol.GONG\n",
    "        elif tone_inventory[8] is not None:\n",
    "            return GongcheMelodySymbol.XIA_GONG\n",
    "    elif pitch == GongcheMelodySymbol.XIA_FAN or pitch == GongcheMelodySymbol.FAN:\n",
    "        if tone_inventory[11] is not None:\n",
    "            return GongcheMelodySymbol.FAN\n",
    "        elif tone_inventory[10] is not None:\n",
    "            return GongcheMelodySymbol.XIA_FAN\n",
    "    elif pitch == GongcheMelodySymbol.LIU:\n",
    "        #if gong_lvlv[12] is not None:\n",
    "        return pitch\n",
    "    elif pitch == GongcheMelodySymbol.XIA_WU or pitch == GongcheMelodySymbol.WU:\n",
    "        if tone_inventory[14] is not None:\n",
    "            return GongcheMelodySymbol.WU\n",
    "        elif tone_inventory[13] is not None:\n",
    "            return GongcheMelodySymbol.XIA_WU\n",
    "    elif pitch == GongcheMelodySymbol.GAO_WU:\n",
    "        #if gong_lvlv[15] is not None:\n",
    "        return pitch\n",
    "\n",
    "    raise_error()"
   ]
  },
  {
   "cell_type": "code",
   "execution_count": 3,
   "id": "fc391c2a",
   "metadata": {},
   "outputs": [],
   "source": [
    "def get_folder_contents(path, extension=None):\n",
    "    file_list = []\n",
    "    try:\n",
    "        for file_path in sorted(os.listdir(path)):\n",
    "            file_path = os.path.join(path, file_path)\n",
    "            if os.path.isdir(file_path):\n",
    "                file_list += get_folder_contents(file_path, extension)\n",
    "            if not extension or file_path.lower().endswith(f'.{extension}'):\n",
    "                file_list.append(file_path)\n",
    "    except Exception as e:\n",
    "        print(f\"Could not read files from directory {path}. {e}\")\n",
    "    return file_list\n",
    "\n",
    "\n",
    "def get_title_list(content):\n",
    "    title_list = []\n",
    "    for box in content:\n",
    "        if box[\"box_type\"] == \"Title\":\n",
    "            title_list.append(box[\"text_content\"])\n",
    "    return title_list\n",
    "\n",
    "def get_lyrics_list(content):\n",
    "    lyrics_list = []\n",
    "    for box in content:\n",
    "        if box[\"box_type\"] == \"Music\" and box[\"text_content\"] != \"\":\n",
    "            lyrics_list.append(box[\"text_content\"])\n",
    "    return lyrics_list\n",
    "\n",
    "def get_suzipu_list(content):\n",
    "    suzipu_list = []\n",
    "    for box in content:\n",
    "        if box[\"box_type\"] == \"Music\" and box[\"notation_content\"][\"pitch\"] is not None:\n",
    "            suzipu_list.append(box[\"notation_content\"])\n",
    "    return suzipu_list\n",
    "\n",
    "def get_pauses(lyrics):\n",
    "    pause_list = []\n",
    "    for lyric in lyrics:\n",
    "        if len(lyric) > 1:\n",
    "            pause_list.append(lyric[1])\n",
    "        else:\n",
    "            pause_list.append(None)\n",
    "    return pause_list\n",
    "\n",
    "\n",
    "def relative_pitch_to_index(mode_properties, pitch_list):\n",
    "    tone_inventory = get_tone_inventory(mode_properties[\"gong_lvlv\"])\n",
    "    index_list = []\n",
    "    for pitch in pitch_list:\n",
    "        index_list.append(pitch_to_index[pitch])\n",
    "    return index_list\n",
    "\n",
    "def relative_pitch_to_absolute_pitch(mode_properties, relative_pitch_list):\n",
    "    absolute_pitch_list = []\n",
    "    for pitch in relative_pitch_list:\n",
    "        absolute_pitch_list.append(tone_inventory_convert_pitch(mode_properties[\"gong_lvlv\"], pitch))\n",
    "    return absolute_pitch_list\n",
    "\n",
    "def absolute_pitch_to_function(mode_properties, absolute_pitch_list):\n",
    "    tone_inventory = get_tone_inventory(mode_properties[\"gong_lvlv\"])\n",
    "    function_list = []\n",
    "    for pitch in absolute_pitch_list:\n",
    "        function_list.append(tone_inventory[GongcheMelodySymbol.to_index(pitch)])\n",
    "    return function_list\n",
    "\n",
    "\n",
    "def absolute_pitch_to_interval(mode_properties, absolute_pitch_list):\n",
    "    tone_inventory = get_tone_inventory(mode_properties[\"gong_lvlv\"])\n",
    "    \n",
    "    ctr = 0\n",
    "    for idx in range(len(tone_inventory)):\n",
    "        if tone_inventory[idx] is not None:\n",
    "            tone_inventory[idx] = ctr\n",
    "            ctr += 1\n",
    "\n",
    "    index_list = []\n",
    "    for pitch in absolute_pitch_list:\n",
    "        index_list.append(tone_inventory[GongcheMelodySymbol.to_index(pitch)])\n",
    "    #index_list.reverse()\n",
    "    index_list = np.array(index_list)\n",
    "    return index_list[1:]-index_list[:-1]\n",
    "        \n",
    "    \n",
    "FULL_PAUSE = [\".\", \"。\", \"?\", \"？\", \":\", \"：\"]\n",
    "PAUSE = [\",\", \"，\", \"、\"]\n",
    "    \n",
    "def open_piece(path):\n",
    "    with open(path, \"r\") as file:\n",
    "        piece = json.load(file)\n",
    "        del piece[\"version\"]\n",
    "        del piece[\"notation_type\"]\n",
    "        del piece[\"composer\"]\n",
    "        \n",
    "        piece[\"title\"] = {}\n",
    "        piece[\"title\"] = get_title_list(piece[\"content\"])[0]\n",
    "        \n",
    "        piece[\"lyrics\"] = {}\n",
    "        piece[\"lyrics\"][\"list\"] = get_lyrics_list(piece[\"content\"])\n",
    "        piece[\"lyrics\"][\"string\"] = \"\".join([char if not (len(char) > 1 and char[1] in FULL_PAUSE) else \"\".join([char, \"\\n\"]) for char in piece[\"lyrics\"][\"list\"]])\n",
    "        \n",
    "        piece[\"cipai\"] = {}\n",
    "        piece[\"cipai\"][\"pause\"] = get_pauses(piece[\"lyrics\"][\"list\"])\n",
    "        \n",
    "        piece[\"music\"] = {}\n",
    "        piece[\"music\"][\"suzipu\"] = get_suzipu_list(piece[\"content\"])\n",
    "        piece[\"music\"][\"relative_pitch\"] = [note[\"pitch\"] for note in piece[\"music\"][\"suzipu\"]]\n",
    "        piece[\"music\"][\"secondary\"] = [note[\"secondary\"] for note in piece[\"music\"][\"suzipu\"]]\n",
    "        piece[\"music\"][\"absolute_pitch\"] = relative_pitch_to_absolute_pitch(piece[\"mode_properties\"], piece[\"music\"][\"relative_pitch\"])\n",
    "        piece[\"music\"][\"function\"] = absolute_pitch_to_function(piece[\"mode_properties\"], piece[\"music\"][\"absolute_pitch\"])\n",
    "        piece[\"music\"][\"interval\"] = absolute_pitch_to_interval(piece[\"mode_properties\"], piece[\"music\"][\"absolute_pitch\"])\n",
    "        piece[\"music\"][\"reverse_interval\"] = -piece[\"music\"][\"interval\"][::-1]\n",
    "        \n",
    "        del piece[\"content\"]\n",
    "        return piece"
   ]
  },
  {
   "cell_type": "code",
   "execution_count": 4,
   "id": "8e4ccbc2",
   "metadata": {},
   "outputs": [
    {
     "name": "stdout",
     "output_type": "stream",
     "text": [
      "鬲溪梅令\n",
      "好花不與殢香人，浪粼粼。\n",
      "又恐春風歸去綠成陰，玉鈿何處尋？\n",
      "木蘭雙槳夢中雲，小横陳。\n",
      "謾向孤山山下覔盈盈，翠禽啼一春。\n",
      "\n",
      "杏花天影\n",
      "綠絲低拂鴛鴦浦，想桃葉當時喚渡。\n",
      "又將愁眼與春風，待去，倚蘭橈更少駐。\n",
      "金陵路鶯吟燕儛，算潮水知人最苦。\n",
      "滿汀芳草不成歸，日暮，更移舟向甚處？\n",
      "\n",
      "醉吟商小品\n",
      "又正是春歸，細柳暗黃千縷，暮鴉啼處。\n",
      "夢逐金鞍去。\n",
      "一點芳心休訴。\n",
      "琵琶解語。\n",
      "\n",
      "玉梅令\n",
      "疏疏雪片，散入溪南苑。\n",
      "春寒鎖舊家亭館。\n",
      "有玉梅幾樹，背立怨東風，高花未吐，暗香已逺。\n",
      "公來領客，梅花能勸，花長好願公更健。\n",
      "便揉春為酒，剪雪作新詩，拚一日繞花千轉。\n",
      "\n",
      "霓裳中序第一\n",
      "亭臯正望極，亂落江蓮歸未得，多病却無氣力。\n",
      "況紈扇漸疎，羅衣初索。\n",
      "流光過隙，歎杏梁雙燕如客。\n",
      "人何在？\n",
      "一簾淡月，仿彿照顏色。\n",
      "幽寂，亂蛩吟壁，動庾信清愁似織。\n",
      "沉思年少浪跡，笛裏關山，柳下坊陌。\n",
      "墜紅無信息，漫暗水涓涓溜碧。\n",
      "漂零久，而今何意，醉卧酒壚側。\n",
      "\n",
      "扬州慢\n",
      "淮左名都，竹西佳處,解鞍少駐初程。\n",
      "過春風十里，盡薺麥青青。\n",
      "自胡馬窺江去後，廢池喬木，猶厭言兵。\n",
      "漸黃昏清角，吹寒都在空城。\n",
      "杜郎俊賞，算而今重到須驚。\n",
      "縱荳蔻詞工，青樓夢好，難賦深情。\n",
      "二十四橋仍在，波心蕩冷月無聲。\n",
      "念橋邊紅藥，年年知為誰生？\n",
      "\n",
      "長亭怨慢\n",
      "漸吹盡，枝頭香絮，是處人家，綠深門戶。\n",
      "逺浦縈回，暮帆零亂向何許？\n",
      "閱人多矣，誰得似長亭樹。\n",
      "樹若有情時，不會得青青如此。\n",
      "日暮，望高城不見，只見亂山無數。\n",
      "韋郎去也，怎忘得玉環分付：\n",
      "第一是早早歸來,怕紅萼無人為主。\n",
      "算只有并刀，難剪離。\n",
      "愁千縷。\n",
      "\n",
      "淡黃柳\n",
      "空城曉角，吹入垂楊陌。\n",
      "馬上單衣寒惻惻。\n",
      "看盡鵞黃嫩綠，都是江南舊相識。\n",
      "正岑寂，明朝又寒食。\n",
      "强攜酒，小喬宅。\n",
      "怕梨花落盡成秋色。\n",
      "燕燕飛來，問春何在？\n",
      "唯有池塘自碧。\n",
      "\n",
      "石湖仙\n",
      "松江烟浦，是千古三高，遊衍佳處。\n",
      "須信石湖仙，似鴟夷翩然引去。\n",
      "浮雲安在，我自愛、綠香紅舞。\n",
      "容與，看世間幾度今古。\n",
      "盧溝舊曾駐馬，為黃花閑吟秀句。\n",
      "見說胡兒，也學綸巾欹雨。\n",
      "玉友金蕉，玉人金縷，緩移箏柱。\n",
      "聞好語，明年定在槐府。\n",
      "\n",
      "暗香\n",
      "舊時月色，算幾番照我，梅邊吹笛？\n",
      "喚起玉人，不管清寒與攀摘。\n",
      "何遜而今漸老，都忘却春風詞筆。\n",
      "但怪得竹外疎花，香冷入瑤席。\n",
      "江國，正寂寂。\n",
      "歎寄與路遙，夜雪初積。\n",
      "翠樽易泣，紅萼無言耿相憶。\n",
      "長記曾攜手處，千樹壓西湖寒碧。\n",
      "又片片、吹盡也，幾時見得。\n",
      "\n",
      "疎影\n",
      "苔枝綴玉，有翠禽小小，枝上同宿。\n",
      "客裏相逢，籬角黃昏，無言自倚修竹。\n",
      "昭君不慣胡沙逺，但暗憶江南江北。\n",
      "想佩環月夜歸來，化作此花幽獨。\n",
      "猶記深宮舊事，那人正睡裏，飛近蛾綠。\n",
      "莫似春風，不管盈盈，早與安排金屋。\n",
      "還教一片隨波去，又却怨玉龍哀曲。\n",
      "等恁時重覓幽香，已入小窗橫幅。\n",
      "\n",
      "惜紅衣\n",
      "簟枕邀涼，琴書換日，睡餘無力。\n",
      "細灑冰泉，并刀破甘碧。\n",
      "牆頭喚酒，誰問訊、城南詩客。\n",
      "岑寂，高樹晚蟬，說西風消息。\n",
      "虹梁水陌，魚浪吹香，紅衣半狼藉。\n",
      "維舟試望，故國眇天北。\n",
      "可惜柳邊沙外，不共美人遊歷。\n",
      "問甚時同賦、三十六陂秋色。\n",
      "\n",
      "角招\n",
      "為春瘦，何堪更繞西湖，盡垂柳。\n",
      "自看烟外岫。\n",
      "記得與君，湖上攜手。\n",
      "君歸未久，早亂落香紅千畝。\n",
      "一葉凌波縹緲，過三十六離宮，遣遊人回首。\n",
      "猶有，畫船障袖，青樓倚扇，相映人爭秀。\n",
      "翠翹光欲溜，愛着宮黃，而今時候。\n",
      "傷春似舊。\n",
      "蕩一點、春心如酒。\n",
      "寫入吳絲自奏，問誰識、曲中心、花前友。\n",
      "\n",
      "徴招\n",
      "潮回却過西陵浦，扁舟僅容居士。\n",
      "去得幾何時，黍離離如此。\n",
      "客途今倦矣。\n",
      "漫贏得、一襟詩思。\n",
      "記憶江南，落帆沙際，此行還是。\n",
      "迤邐、剡中山，重相見、依依故人情味。\n",
      "似怨不來遊，擁愁鬟十二。\n",
      "一邱聊復爾，也孤負、幼輿高志。\n",
      "水葓晚，漠漠搖烟，奈未成歸計。\n",
      "\n",
      "秋宵吟\n",
      "古簾空，墜月皎。\n",
      "坐久西窗人悄。\n",
      "蛩吟苦，漸漏水丁丁，箭壺催曉。\n",
      "引凉颸，動翠葆，露脚斜飛雲表。\n",
      "因嗟念、似去國情懷，暮帆烟草。\n",
      "帶眼銷磨，為近日愁多頓老。\n",
      "衛娘何在，宋玉歸來，兩地暗縈繞。\n",
      "搖落江楓早，嫩約無憑，幽夢又杳。\n",
      "但盈盈、淚灑單衣，今夕何夕恨未了。\n",
      "\n",
      "淒涼犯\n",
      "綠楊巷陌秋風起，邊城一片離索。\n",
      "馬嘶漸遠，人歸甚處，戍樓吹角。\n",
      "情懷正惡，更衰草寒烟淡薄。\n",
      "似當時、將軍部曲，迤邐度沙漠。\n",
      "追念西湖上，小舫攜歌，晚花行樂。\n",
      "舊遊在否，想如今、翠凋紅落。\n",
      "漫寫羊裙，等新雁來時繫著。\n",
      "怕匆匆、不肯寄與悮後約。\n",
      "\n",
      "翠樓吟\n",
      "月冷龍沙，塵清⻁落，今年漢酺初賜。\n",
      "新翻胡部曲，聽氊幕元戎歌吹。\n",
      "層樓高峙，看檻曲縈紅，簷牙飛翠。\n",
      "人姝麗，粉香吹下，夜寒風細。\n",
      "此地，宜有詞仙，擁素雲黃鶴，與君遊戲。\n",
      "玉梯凝望久，歎芳草萋萋千里。\n",
      "天涯情味，仗酒祓清愁，花消英氣。\n",
      "西山外，晚來還捲、一簾秋霽。\n",
      "\n"
     ]
    }
   ],
   "source": [
    "corpus_dir = \"./KuiSCIMA/symbolic_dataset/normalized_edition\"\n",
    "json_files = get_folder_contents(corpus_dir, \"json\")\n",
    "\n",
    "pieces = []\n",
    "for path in json_files:\n",
    "    piece = open_piece(path)\n",
    "    pieces.append(piece)\n",
    "    print(piece[\"title\"])\n",
    "    print(piece[\"lyrics\"][\"string\"])"
   ]
  },
  {
   "cell_type": "code",
   "execution_count": 15,
   "id": "2637ae13",
   "metadata": {},
   "outputs": [],
   "source": [
    "def get_n_grams(base_list, n):\n",
    "    ngrams = []\n",
    "    for idx in range(len(base_list)-(n-1)):\n",
    "        ngrams.append(tuple(base_list[idx:idx+n]))\n",
    "    return ngrams\n",
    "\n",
    "    \n",
    "def plot_n_grams(base_pieces, key, n, title=\"\"):    \n",
    "    total_list = []\n",
    "    for piece in base_pieces:\n",
    "        total_list += get_n_grams(piece[\"music\"][key], n=n)\n",
    "\n",
    "    if key == \"function\":\n",
    "        inventory = [GongdiaoStep.GONG, GongdiaoStep.SHANG, GongdiaoStep.JUE, GongdiaoStep.BIAN, GongdiaoStep.ZHI, GongdiaoStep.YU, GongdiaoStep.RUN]\n",
    "    elif key == \"interval\":\n",
    "        inventory = range(-9, 9, 1)\n",
    "    elif key == \"secondary\":\n",
    "        inventory = dataclasses.astuple(SuzipuAdditionalSymbol())\n",
    "    elif key == \"absolute_pitch\":\n",
    "        inventory = dataclasses.astuple(GongcheMelodySymbol())\n",
    "    \n",
    "    count = {}\n",
    "    for combination in itertools.product(*[inventory for idx in range(n)]):\n",
    "        count[combination] = 0\n",
    "    \n",
    "    for ngram in total_list:\n",
    "        count[ngram] += 1\n",
    "    #count = dict(sorted(count.items(), key=lambda x: x[1], reverse=True))\n",
    "    display = [str(key) for key in count.keys()]\n",
    "    \n",
    "    plt.figure()\n",
    "    plt.bar(display, np.array(list(count.values())), label=list(count.keys()), alpha=0.7)\n",
    "    plt.title(f\"{title}: {key} {n}-grams\")\n",
    "    #plt.savefig(f\"{title}_{key}_{n}.pdf\")\n",
    "    \n",
    "    return list(count.values())\n",
    "\n",
    "def get_finals(base_pieces, key, n, title=\"\"):\n",
    "    total_list = []\n",
    "    for piece in base_pieces:\n",
    "        total_list.append(tuple(piece[\"music\"][key][-n:]))\n",
    "    \n",
    "    count = {}\n",
    "    for final in total_list:\n",
    "        try:\n",
    "            count[final] += 1\n",
    "        except KeyError:\n",
    "            count[final] = 1\n",
    "            \n",
    "    count = dict(sorted(count.items(), key=lambda x: x[1], reverse=True))\n",
    "    \n",
    "    return_str = f\"   {title} finals\\n\"\n",
    "    for idx, key in enumerate(count.keys()):\n",
    "        return_str += f\"      {idx+1}. {key}: {count[key]/sum(list(count.values()))*100:.2f}% ({count[key]})\\n\"\n",
    "\n",
    "    return return_str\n",
    "\n",
    "def get_full_stop_finals(base_pieces, key, n, title=\"\"):\n",
    "    total_list = []\n",
    "    for piece in base_pieces:\n",
    "        for idx, lyric in enumerate(piece[\"cipai\"][\"pause\"]):\n",
    "            if lyric in FULL_PAUSE:\n",
    "                #print(piece[\"lyrics\"][\"list\"][idx], piece[\"music\"][key][idx])\n",
    "                if key == \"interval\":\n",
    "                    total_list.append(tuple(piece[\"music\"][key][idx-n:idx]))\n",
    "                else:\n",
    "                    total_list.append(tuple(piece[\"music\"][key][idx+1-n:idx+1]))\n",
    "    \n",
    "    count = {}\n",
    "    for final in total_list:\n",
    "        try:\n",
    "            count[final] += 1\n",
    "        except KeyError:\n",
    "            count[final] = 1\n",
    "            \n",
    "    count = dict(sorted(count.items(), key=lambda x: x[1], reverse=True))\n",
    "    \n",
    "    return_str = f\"   {title} finals\\n\"\n",
    "    for idx, key in enumerate(count.keys()):\n",
    "        return_str += f\"      {idx+1}. {key}: {count[key]/sum(list(count.values()))*100:.2f}% ({count[key]})\\n\"\n",
    "\n",
    "    return return_str\n",
    "\n",
    "def get_ngram_statistics(base_pieces, key, n, title=\"\", display_number=None):\n",
    "    total_list = []\n",
    "    for piece in base_pieces:\n",
    "        total_list += get_n_grams(piece[\"music\"][key], n=n)\n",
    "    \n",
    "    count = {}\n",
    "    for ngram in total_list:\n",
    "        try:\n",
    "            count[ngram] += 1\n",
    "        except KeyError:\n",
    "            count[ngram] = 1\n",
    "            \n",
    "    count = dict(sorted(count.items(), key=lambda x: x[1], reverse=True))\n",
    "    \n",
    "    return_str = f\"   {title} {key} {n}-gram frequency\\n\"\n",
    "    for idx, key in enumerate(count.keys()):\n",
    "        return_str += f\"      {idx+1}. {key}: {count[key]/sum(list(count.values()))*100:.2f}% ({count[key]})\\n\"\n",
    "        if display_number == idx+1:\n",
    "            break\n",
    "    \n",
    "    return return_str"
   ]
  },
  {
   "cell_type": "code",
   "execution_count": 16,
   "id": "551fc4c3",
   "metadata": {},
   "outputs": [
    {
     "name": "stdout",
     "output_type": "stream",
     "text": [
      "CATEGORY: Final Note: GONG (6 pieces)\n",
      "   All finals\n",
      "      1. (1, -1): 45.10% (23)\n",
      "      2. (-1, -2): 11.76% (6)\n",
      "      3. (2, -2): 9.80% (5)\n",
      "      4. (-1, -1): 7.84% (4)\n",
      "      5. (3, -1): 3.92% (2)\n",
      "      6. (1, 4): 1.96% (1)\n",
      "      7. (-5, 2): 1.96% (1)\n",
      "      8. (-2, -1): 1.96% (1)\n",
      "      9. (1, -3): 1.96% (1)\n",
      "      10. (-1, 2): 1.96% (1)\n",
      "      11. (4, -3): 1.96% (1)\n",
      "      12. (-1, 1): 1.96% (1)\n",
      "      13. (-3, -1): 1.96% (1)\n",
      "      14. (2, 2): 1.96% (1)\n",
      "      15. (-5, 3): 1.96% (1)\n",
      "      16. (5, -1): 1.96% (1)\n",
      "\n",
      "CATEGORY: Final Note: SHANG (4 pieces)\n",
      "   All finals\n",
      "      1. (1, -1): 31.03% (9)\n",
      "      2. (2, -2): 27.59% (8)\n",
      "      3. (-1, -1): 13.79% (4)\n",
      "      4. (-1, 2): 10.34% (3)\n",
      "      5. (1, 1): 3.45% (1)\n",
      "      6. (-1, 1): 3.45% (1)\n",
      "      7. (2, 2): 3.45% (1)\n",
      "      8. (-5, 2): 3.45% (1)\n",
      "      9. (1, 2): 3.45% (1)\n",
      "\n",
      "CATEGORY: Final Note: JUE (1 pieces)\n",
      "   All finals\n",
      "      1. (2, -2): 30.00% (3)\n",
      "      2. (3, -2): 20.00% (2)\n",
      "      3. (-1, -1): 20.00% (2)\n",
      "      4. (-1, 2): 10.00% (1)\n",
      "      5. (0, 1): 10.00% (1)\n",
      "      6. (-4, 2): 10.00% (1)\n",
      "\n",
      "CATEGORY: Final Note: ZHI (1 pieces)\n",
      "   All finals\n",
      "      1. (1, -1): 44.44% (4)\n",
      "      2. (2, -2): 22.22% (2)\n",
      "      3. (-1, -1): 22.22% (2)\n",
      "      4. (-1, 2): 11.11% (1)\n",
      "\n",
      "CATEGORY: Final Note: YU (5 pieces)\n",
      "   All finals\n",
      "      1. (1, 1): 17.24% (5)\n",
      "      2. (-1, -1): 17.24% (5)\n",
      "      3. (2, -2): 13.79% (4)\n",
      "      4. (-1, 1): 10.34% (3)\n",
      "      5. (1, -1): 6.90% (2)\n",
      "      6. (-2, 1): 6.90% (2)\n",
      "      7. (-1, 2): 6.90% (2)\n",
      "      8. (-1, -2): 6.90% (2)\n",
      "      9. (3, -2): 3.45% (1)\n",
      "      10. (3, -1): 3.45% (1)\n",
      "      11. (-3, -1): 3.45% (1)\n",
      "      12. (2, 1): 3.45% (1)\n",
      "\n"
     ]
    }
   ],
   "source": [
    "def filter_by_gong(pieces, gong_lvlv):\n",
    "    return [piece for piece in pieces if piece[\"mode_properties\"][\"gong_lvlv\"] == gong_lvlv]\n",
    "\n",
    "def filter_by_final(pieces, final_note):\n",
    "    return [piece for piece in pieces if piece[\"mode_properties\"][\"final_note\"] == final_note]\n",
    "\n",
    "categories = {}\n",
    "#for gong_lvlv in dataclasses.astuple(Lvlv()):\n",
    "#    filtered_pieces = filter_by_gong(pieces, gong_lvlv)\n",
    "#    if len(filtered_pieces):\n",
    "#        categories[f\"Gong Lvlv: {gong_lvlv}\"] = filtered_pieces\n",
    "for final_note in dataclasses.astuple(GongdiaoStep()):\n",
    "    filtered_pieces = filter_by_final(pieces, final_note)\n",
    "    if len(filtered_pieces):\n",
    "        categories[f\"Final Note: {final_note}\"] = filtered_pieces\n",
    "\n",
    "#print(get_finals(pieces, \"interval\", 1, title=\"All\"))\n",
    "for category in categories.keys():\n",
    "    print(f\"CATEGORY: {category} ({len(categories[category])} pieces)\")\n",
    "    #print(get_statistics(categories[category], \"interval\", 3, title=\"All\", display_number=8))\n",
    "    #print(get_finals(categories[category], \"interval\", 1, title=\"All\"))\n",
    "    print(get_full_stop_finals(categories[category], \"interval\", 2, title=\"All\"))\n",
    "    #for piece in categories[category]:\n",
    "        #print(get_ngram_statistics([piece], \"interval\", 3, title=piece[\"title\"], display_number=8))\n",
    "        #print(get_finals([piece], \"interval\", 2, title=piece[\"title\"]))"
   ]
  },
  {
   "cell_type": "code",
   "execution_count": 7,
   "id": "e8a1b180",
   "metadata": {},
   "outputs": [
    {
     "name": "stdout",
     "output_type": "stream",
     "text": [
      "CATEGORY: Final Note: GONG (6 pieces)\n",
      "   All finals\n",
      "      1. ('GONG',): 45.10% (23)\n",
      "      2. ('JUE',): 25.49% (13)\n",
      "      3. ('YU',): 17.65% (9)\n",
      "      4. ('ZHI',): 7.84% (4)\n",
      "      5. ('SHANG',): 3.92% (2)\n",
      "\n",
      "CATEGORY: Final Note: SHANG (4 pieces)\n",
      "   All finals\n",
      "      1. ('SHANG',): 44.83% (13)\n",
      "      2. ('YU',): 31.03% (9)\n",
      "      3. ('BIAN',): 13.79% (4)\n",
      "      4. ('JUE',): 10.34% (3)\n",
      "\n",
      "CATEGORY: Final Note: JUE (1 pieces)\n",
      "   All finals\n",
      "      1. ('JUE',): 70.00% (7)\n",
      "      2. ('YU',): 30.00% (3)\n",
      "\n",
      "CATEGORY: Final Note: ZHI (1 pieces)\n",
      "   All finals\n",
      "      1. ('JUE',): 55.56% (5)\n",
      "      2. ('ZHI',): 44.44% (4)\n",
      "\n",
      "CATEGORY: Final Note: YU (5 pieces)\n",
      "   All finals\n",
      "      1. ('YU',): 51.72% (15)\n",
      "      2. ('JUE',): 34.48% (10)\n",
      "      3. ('RUN',): 6.90% (2)\n",
      "      4. ('GONG',): 3.45% (1)\n",
      "      5. ('SHANG',): 3.45% (1)\n",
      "\n"
     ]
    }
   ],
   "source": [
    "#print(get_finals(pieces, \"interval\", 1, title=\"All\"))\n",
    "for category in categories.keys():\n",
    "    print(f\"CATEGORY: {category} ({len(categories[category])} pieces)\")\n",
    "    #print(get_statistics(categories[category], \"interval\", 3, title=\"All\", display_number=8))\n",
    "    #print(get_finals(categories[category], \"interval\", 1, title=\"All\"))\n",
    "    print(get_full_stop_finals(categories[category], \"function\", 1, title=\"All\"))\n",
    "    #for piece in categories[category]:\n",
    "        #print(get_ngram_statistics([piece], \"interval\", 3, title=piece[\"title\"], display_number=8))\n",
    "        #print(get_finals([piece], \"interval\", 2, title=piece[\"title\"]))"
   ]
  },
  {
   "cell_type": "code",
   "execution_count": 9,
   "id": "dee5d2ae",
   "metadata": {},
   "outputs": [],
   "source": [
    "key = \"interval\"\n",
    "#plot_n_grams(filter_by_gong(pieces, Lvlv.HUANGZHONG), key, 1, Lvlv.HUANGZHONG)\n",
    "#plot_n_grams(filter_by_gong(pieces, Lvlv.JIAZHONG), key, 1, Lvlv.JIAZHONG)\n",
    "#plot_n_grams(filter_by_gong(pieces, Lvlv.ZHONGLV), key, 1, Lvlv.ZHONGLV)\n",
    "#plot_n_grams(filter_by_gong(pieces, Lvlv.LINZHONG), key, 1, Lvlv.LINZHONG)\n",
    "#plot_n_grams(filter_by_gong(pieces, Lvlv.YIZE), key, 1, Lvlv.YIZE)\n",
    "#plot_n_grams(filter_by_gong(pieces, Lvlv.WUYI), key, 1, Lvlv.WUYI)"
   ]
  },
  {
   "cell_type": "code",
   "execution_count": 10,
   "id": "c2961bc4",
   "metadata": {},
   "outputs": [
    {
     "data": {
      "text/plain": [
       "[59, 63, 57, 45, 37, 69, 47]"
      ]
     },
     "execution_count": 10,
     "metadata": {},
     "output_type": "execute_result"
    },
    {
     "data": {
      "image/png": "[encoded data removed]",
      "text/plain": [
       "<Figure size 432x288 with 1 Axes>"
      ]
     },
     "metadata": {
      "needs_background": "light"
     },
     "output_type": "display_data"
    },
    {
     "data": {
      "image/png": "[encoded data removed]",
      "text/plain": [
       "<Figure size 432x288 with 1 Axes>"
      ]
     },
     "metadata": {
      "needs_background": "light"
     },
     "output_type": "display_data"
    },
    {
     "data": {
      "image/png": "[encoded data removed]",
      "text/plain": [
       "<Figure size 432x288 with 1 Axes>"
      ]
     },
     "metadata": {
      "needs_background": "light"
     },
     "output_type": "display_data"
    },
    {
     "data": {
      "image/png": "[encoded data removed]",
      "text/plain": [
       "<Figure size 432x288 with 1 Axes>"
      ]
     },
     "metadata": {
      "needs_background": "light"
     },
     "output_type": "display_data"
    },
    {
     "data": {
      "image/png": "[encoded data removed]",
      "text/plain": [
       "<Figure size 432x288 with 1 Axes>"
      ]
     },
     "metadata": {
      "needs_background": "light"
     },
     "output_type": "display_data"
    },
    {
     "data": {
      "image/png": "[encoded data removed]",
      "text/plain": [
       "<Figure size 432x288 with 1 Axes>"
      ]
     },
     "metadata": {
      "needs_background": "light"
     },
     "output_type": "display_data"
    }
   ],
   "source": [
    "plot_n_grams(filter_by_gong(pieces, Lvlv.HUANGZHONG), \"function\", 1, Lvlv.HUANGZHONG)\n",
    "plot_n_grams(filter_by_gong(pieces, Lvlv.JIAZHONG), \"function\", 1, Lvlv.JIAZHONG)\n",
    "plot_n_grams(filter_by_gong(pieces, Lvlv.ZHONGLV), \"function\", 1, Lvlv.ZHONGLV)\n",
    "plot_n_grams(filter_by_gong(pieces, Lvlv.LINZHONG), \"function\", 1, Lvlv.LINZHONG)\n",
    "plot_n_grams(filter_by_gong(pieces, Lvlv.YIZE), \"function\", 1, Lvlv.YIZE)\n",
    "plot_n_grams(filter_by_gong(pieces, Lvlv.WUYI), \"function\", 1, Lvlv.WUYI)"
   ]
  },
  {
   "cell_type": "code",
   "execution_count": 12,
   "id": "7c50d6ae",
   "metadata": {},
   "outputs": [
    {
     "data": {
      "text/plain": [
       "[0, 0, 0, 0, 13, 10, 10, 47, 84, 9, 72, 44, 14, 10, 10, 2, 0, 0]"
      ]
     },
     "execution_count": 12,
     "metadata": {},
     "output_type": "execute_result"
    },
    {
     "data": {
      "image/png": "[encoded data removed]",
      "text/plain": [
       "<Figure size 432x288 with 1 Axes>"
      ]
     },
     "metadata": {
      "needs_background": "light"
     },
     "output_type": "display_data"
    },
    {
     "data": {
      "image/png": "[encoded data removed]",
      "text/plain": [
       "<Figure size 432x288 with 1 Axes>"
      ]
     },
     "metadata": {
      "needs_background": "light"
     },
     "output_type": "display_data"
    },
    {
     "data": {
      "image/png": "[encoded data removed]",
      "text/plain": [
       "<Figure size 432x288 with 1 Axes>"
      ]
     },
     "metadata": {
      "needs_background": "light"
     },
     "output_type": "display_data"
    },
    {
     "data": {
      "image/png": "[encoded data removed]",
      "text/plain": [
       "<Figure size 432x288 with 1 Axes>"
      ]
     },
     "metadata": {
      "needs_background": "light"
     },
     "output_type": "display_data"
    },
    {
     "data": {
      "image/png": "[encoded data removed]",
      "text/plain": [
       "<Figure size 432x288 with 1 Axes>"
      ]
     },
     "metadata": {
      "needs_background": "light"
     },
     "output_type": "display_data"
    }
   ],
   "source": [
    "plot_n_grams(filter_by_final(pieces, GongdiaoStep.GONG), \"interval\", 1, GongdiaoStep.GONG)\n",
    "plot_n_grams(filter_by_final(pieces, GongdiaoStep.SHANG), \"interval\", 1, GongdiaoStep.SHANG)\n",
    "plot_n_grams(filter_by_final(pieces, GongdiaoStep.JUE), \"interval\", 1, GongdiaoStep.JUE)\n",
    "plot_n_grams(filter_by_final(pieces, GongdiaoStep.ZHI), \"interval\", 1, GongdiaoStep.ZHI)\n",
    "plot_n_grams(filter_by_final(pieces, GongdiaoStep.YU), \"interval\", 1, GongdiaoStep.YU)"
   ]
  },
  {
   "cell_type": "code",
   "execution_count": 13,
   "id": "93fe7009",
   "metadata": {},
   "outputs": [
    {
     "data": {
      "text/plain": [
       "[59, 25, 64, 23, 51, 71, 37]"
      ]
     },
     "execution_count": 13,
     "metadata": {},
     "output_type": "execute_result"
    },
    {
     "data": {
      "image/png": "[encoded data removed]",
      "text/plain": [
       "<Figure size 432x288 with 1 Axes>"
      ]
     },
     "metadata": {
      "needs_background": "light"
     },
     "output_type": "display_data"
    },
    {
     "data": {
      "image/png": "[encoded data removed]",
      "text/plain": [
       "<Figure size 432x288 with 1 Axes>"
      ]
     },
     "metadata": {
      "needs_background": "light"
     },
     "output_type": "display_data"
    },
    {
     "data": {
      "image/png": "[encoded data removed]",
      "text/plain": [
       "<Figure size 432x288 with 1 Axes>"
      ]
     },
     "metadata": {
      "needs_background": "light"
     },
     "output_type": "display_data"
    },
    {
     "data": {
      "image/png": "[encoded data removed]",
      "text/plain": [
       "<Figure size 432x288 with 1 Axes>"
      ]
     },
     "metadata": {
      "needs_background": "light"
     },
     "output_type": "display_data"
    },
    {
     "data": {
      "image/png": "[encoded data removed]",
      "text/plain": [
       "<Figure size 432x288 with 1 Axes>"
      ]
     },
     "metadata": {
      "needs_background": "light"
     },
     "output_type": "display_data"
    }
   ],
   "source": [
    "plot_n_grams(filter_by_final(pieces, GongdiaoStep.GONG), \"function\", 1, GongdiaoStep.GONG)\n",
    "plot_n_grams(filter_by_final(pieces, GongdiaoStep.SHANG), \"function\", 1, GongdiaoStep.SHANG)\n",
    "plot_n_grams(filter_by_final(pieces, GongdiaoStep.JUE), \"function\", 1, GongdiaoStep.JUE)\n",
    "plot_n_grams(filter_by_final(pieces, GongdiaoStep.ZHI), \"function\", 1, GongdiaoStep.ZHI)\n",
    "plot_n_grams(filter_by_final(pieces, GongdiaoStep.YU), \"function\", 1, GongdiaoStep.YU)"
   ]
  },
  {
   "cell_type": "code",
   "execution_count": 14,
   "id": "0dda7e2c",
   "metadata": {},
   "outputs": [
    {
     "name": "stdout",
     "output_type": "stream",
     "text": [
      "STAT 142.96815064793805\n",
      "P 6.627036926394946e-19\n",
      "DOF 24\n",
      "EXPECTED [[102.46185853  77.87101248 114.34743412  53.69001387  77.46116505\n",
      "  113.93758669  51.23092926]\n",
      " [ 55.30513176  42.03190014  61.72052705  28.97988904  41.81067961\n",
      "   61.49930652  27.65256588]\n",
      " [ 18.55062413  14.09847434  20.70249653   9.72052705  14.02427184\n",
      "   20.62829404   9.27531207]\n",
      " [ 16.47018031  12.51733703  18.38072122   8.63037448  12.45145631\n",
      "   18.3148405    8.23509015]\n",
      " [ 57.21220527  43.48127601  63.84882108  29.97919556  43.25242718\n",
      "   63.61997226  28.60610264]]\n",
      "Distribution is different (reject H0)\n"
     ]
    },
    {
     "data": {
      "image/png": "[encoded data removed]",
      "text/plain": [
       "<Figure size 432x288 with 1 Axes>"
      ]
     },
     "metadata": {
      "needs_background": "light"
     },
     "output_type": "display_data"
    },
    {
     "data": {
      "image/png": "[encoded data removed]",
      "text/plain": [
       "<Figure size 432x288 with 1 Axes>"
      ]
     },
     "metadata": {
      "needs_background": "light"
     },
     "output_type": "display_data"
    },
    {
     "data": {
      "image/png": "[encoded data removed]",
      "text/plain": [
       "<Figure size 432x288 with 1 Axes>"
      ]
     },
     "metadata": {
      "needs_background": "light"
     },
     "output_type": "display_data"
    },
    {
     "data": {
      "image/png": "[encoded data removed]",
      "text/plain": [
       "<Figure size 432x288 with 1 Axes>"
      ]
     },
     "metadata": {
      "needs_background": "light"
     },
     "output_type": "display_data"
    },
    {
     "data": {
      "image/png": "[encoded data removed]",
      "text/plain": [
       "<Figure size 432x288 with 1 Axes>"
      ]
     },
     "metadata": {
      "needs_background": "light"
     },
     "output_type": "display_data"
    }
   ],
   "source": [
    "contingency_table = []\n",
    "contingency_table.append(plot_n_grams(filter_by_final(pieces, GongdiaoStep.GONG), \"function\", 1, Lvlv.HUANGZHONG))\n",
    "contingency_table.append(plot_n_grams(filter_by_final(pieces, GongdiaoStep.SHANG), \"function\", 1, Lvlv.JIAZHONG))\n",
    "contingency_table.append(plot_n_grams(filter_by_final(pieces, GongdiaoStep.JUE), \"function\", 1, Lvlv.ZHONGLV))\n",
    "contingency_table.append(plot_n_grams(filter_by_final(pieces, GongdiaoStep.ZHI), \"function\", 1, Lvlv.LINZHONG))\n",
    "contingency_table.append(plot_n_grams(filter_by_final(pieces, GongdiaoStep.YU), \"function\", 1, Lvlv.YIZE))\n",
    "\n",
    "stat, p, dof, expected = chi2_contingency(contingency_table)\n",
    "print(\"STAT\", stat)\n",
    "print(\"P\", p)\n",
    "print(\"DOF\", dof)\n",
    "print(\"EXPECTED\", expected)\n",
    "\n",
    "prob = 0.95\n",
    "alpha = 1.0 - prob\n",
    "if p <= alpha:\n",
    " print('Distribution is different (reject H0)')\n",
    "else:\n",
    " print('Distribution is the same (fail to reject H0)')"
   ]
  },
  {
   "cell_type": "code",
   "execution_count": null,
   "id": "084b283a",
   "metadata": {},
   "outputs": [],
   "source": []
  }
 ],
 "metadata": {
  "kernelspec": {
   "display_name": "Python 3 (ipykernel)",
   "language": "python",
   "name": "python3"
  },
  "language_info": {
   "codemirror_mode": {
    "name": "ipython",
    "version": 3
   },
   "file_extension": ".py",
   "mimetype": "text/x-python",
   "name": "python",
   "nbconvert_exporter": "python",
   "pygments_lexer": "ipython3",
   "version": "3.10.12"
  }
 },
 "nbformat": 4,
 "nbformat_minor": 5
}
