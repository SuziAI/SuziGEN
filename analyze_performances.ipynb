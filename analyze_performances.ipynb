{
 "cells": [
  {
   "cell_type": "code",
   "execution_count": 5,
   "id": "979f4926-c4ed-44a1-b46c-4bb8ed64fa2b",
   "metadata": {},
   "outputs": [],
   "source": [
    "import csv\n",
    "from save_and_load import *\n",
    "from music import *\n",
    "import pretty_midi\n",
    "\n",
    "pieces_data = load_17_pieces_data()[\"all\"]"
   ]
  },
  {
   "cell_type": "code",
   "execution_count": 65,
   "id": "dd319d4c-4323-4c36-91f7-7600abf4e196",
   "metadata": {},
   "outputs": [],
   "source": [
    "piece_idx = 9\n",
    "mode = pieces_data[piece_idx][\"mode_properties\"]\n",
    "relative_pitch = pieces_data[piece_idx][\"music\"][\"relative_pitch\"]\n",
    "secondary = pieces_data[piece_idx][\"music\"][\"secondary\"]\n",
    "meter = pieces_data[piece_idx][\"cipai\"][\"meter\"]\n"
   ]
  },
  {
   "cell_type": "code",
   "execution_count": 66,
   "id": "7381efa5-f0bd-4b42-ae36-58ab5ed47344",
   "metadata": {},
   "outputs": [
    {
     "name": "stdout",
     "output_type": "stream",
     "text": [
      "Saved 'three_voice_piece.mid'\n"
     ]
    }
   ],
   "source": []
  },
  {
   "cell_type": "code",
   "execution_count": 52,
   "id": "b94a0496-c8cd-45d9-8e9e-42cb975faba3",
   "metadata": {
    "scrolled": true
   },
   "outputs": [],
   "source": [
    "def open_file(idx):\n",
    "    fname = f\"{idx+1:02d}\"\n",
    "    with open(f'music/{fname}_syllables.csv', newline='') as csvfile:\n",
    "        reader = csv.reader(csvfile, delimiter=',', quotechar='|')\n",
    "        syllables = [[row[1], row[2]] for row in reader]\n",
    "    with open(f'music/{fname}_paiban.csv', newline='') as csvfile:\n",
    "        reader = csv.reader(csvfile, delimiter=',', quotechar='|')\n",
    "        paiban = [row for row in reader]\n",
    "    return syllables, paiban"
   ]
  },
  {
   "cell_type": "code",
   "execution_count": 53,
   "id": "da97bde9-6838-4973-9eb9-b5cacd763161",
   "metadata": {},
   "outputs": [
    {
     "name": "stdout",
     "output_type": "stream",
     "text": [
      "[['0', '2.210958333'], ['0', '1.029041667'], ['0', '1.106666667'], ['0', '1.538666667'], ['0', '0.973854167'], ['0', '0.984291667'], ['0', '1.655187500'], ['1', '0.550375000'], ['0', '2.029770833'], ['0', '1.050083333'], ['0', '1.500437500'], ['1', '0.629333333'], ['0', '1.030187500'], ['0', '0.893791667'], ['0', '1.019145833'], ['0', '0.966854167'], ['0', '0.913020833'], ['0', '1.497000000'], ['1', '0.583770833'], ['0', '2.029000000'], ['0', '1.031625000'], ['0', '1.675604167'], ['1', '0.498666667'], ['0', '0.991729167'], ['0', '1.073770833'], ['0', '2.283104167'], ['0', '2.072875000'], ['0', '1.706520833'], ['1', '0.640000000'], ['0', '1.927062500'], ['0', '1.036020833'], ['0', '1.046666667'], ['0', '1.576916667'], ['1', '0.503562500'], ['0', '1.061854167'], ['0', '2.064875000'], ['0', '1.743041667'], ['1', '0.413958333'], ['0', '2.144000000'], ['0', '1.130666667'], ['0', '1.030291667'], ['0', '0.582500000'], ['1', '0.570937500'], ['0', '1.015354167'], ['0', '1.009020833'], ['0', '0.994958333'], ['0', '1.023062500'], ['0', '0.971229167'], ['0', '1.655437500'], ['1', '0.473354167'], ['0', '2.086645833'], ['0', '1.006708333'], ['0', '1.646625000'], ['1', '0.573333333'], ['0', '0.982145833'], ['0', '1.005645833'], ['0', '2.552937500'], ['0', '2.653937500'], ['0', '4.426666667'], ['0', '0.000020833']]\n"
     ]
    }
   ],
   "source": [
    "print(open_file(0)[0])"
   ]
  },
  {
   "cell_type": "code",
   "execution_count": null,
   "id": "125c2f9d-befb-44a2-8797-c4aff5f2ff09",
   "metadata": {},
   "outputs": [],
   "source": []
  }
 ],
 "metadata": {
  "kernelspec": {
   "display_name": "suziai_env",
   "language": "python",
   "name": "suziai_env"
  },
  "language_info": {
   "codemirror_mode": {
    "name": "ipython",
    "version": 3
   },
   "file_extension": ".py",
   "mimetype": "text/x-python",
   "name": "python",
   "nbconvert_exporter": "python",
   "pygments_lexer": "ipython3",
   "version": "3.10.17"
  }
 },
 "nbformat": 4,
 "nbformat_minor": 5
}
